!pip install snscrape
import snscrape.modules.twitter as sntwitter
